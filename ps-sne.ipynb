{
 "cells": [
  {
   "cell_type": "markdown",
   "metadata": {},
   "source": [
    "## Mixed-Curvature SNE"
   ]
  },
  {
   "cell_type": "code",
   "execution_count": 1,
   "metadata": {},
   "outputs": [],
   "source": [
    "# from tsne import *\n",
    "from sklearn.manifold import TSNE\n",
    "from htsne_impl import *\n",
    "from pvae.datasets import datasets\n",
    "from sklearn.datasets import fetch_openml\n",
    "from sklearn.preprocessing import StandardScaler\n",
    "\n",
    "import matplotlib.pyplot as plt"
   ]
  },
  {
   "cell_type": "markdown",
   "metadata": {},
   "source": [
    "### Re-create t-SNE visualization on MNIST"
   ]
  },
  {
   "cell_type": "code",
   "execution_count": 2,
   "metadata": {},
   "outputs": [
    {
     "name": "stdout",
     "output_type": "stream",
     "text": [
      "Loaded MNIST data with shape: (1000, 784)\n",
      "Number of classes: 10\n"
     ]
    },
    {
     "data": {
      "image/png": "[encoded data removed]",
      "text/plain": [
       "<Figure size 1000x200 with 5 Axes>"
      ]
     },
     "metadata": {},
     "output_type": "display_data"
    }
   ],
   "source": [
    "\"\"\"\n",
    "Data preprocessing pipeline for MNIST dataset:\n",
    "1. Loads MNIST as initial benchmark dataset (consistent with original t-SNE paper)\n",
    "2. Applies StandardScaler to normalize features (important for distance calculations)\n",
    "3. Includes visualization check for data integrity\n",
    "\n",
    "Key Features:\n",
    "- Configurable sample size for development/testing\n",
    "- Reproducible sampling with random_state\n",
    "- Float32 conversion for computational efficiency\n",
    "\n",
    "This implementation serves as our baseline dataset before moving to more complex\n",
    "hierarchical and network data structures mentioned in the proposal.\n",
    "\"\"\"\n",
    "\n",
    "def load_mnist(n_samples=1000, random_state=42):\n",
    "    \"\"\"\n",
    "    Load and preprocess MNIST dataset\n",
    "\n",
    "    Parameters:\n",
    "    -----------\n",
    "    n_samples : int\n",
    "        Number of samples to load\n",
    "    random_state : int\n",
    "        Random seed for reproducibility\n",
    "\n",
    "    Returns:\n",
    "    --------\n",
    "    X : array of shape (n_samples, n_features)\n",
    "        The input data\n",
    "    y : array of shape (n_samples,)\n",
    "        The labels\n",
    "    \"\"\"\n",
    "    # Load MNIST\n",
    "    X, y = fetch_openml('mnist_784', version=1, return_X_y=True, as_frame=False)\n",
    "\n",
    "    # Convert to float32 for faster processing\n",
    "    X = X.astype('float32')\n",
    "\n",
    "    # Normalize the data\n",
    "    X = StandardScaler().fit_transform(X)\n",
    "\n",
    "    # Subsample if needed\n",
    "    if n_samples < X.shape[0]:\n",
    "        np.random.seed(random_state)\n",
    "        idx = np.random.choice(X.shape[0], n_samples, replace=False)\n",
    "        X = X[idx]\n",
    "        y = y[idx]\n",
    "\n",
    "    return X, y\n",
    "\n",
    "# Load a subset of MNIST for initial testing\n",
    "X_mnist, y_mnist = load_mnist(n_samples=1000)\n",
    "\n",
    "print(f\"Loaded MNIST data with shape: {X_mnist.shape}\")\n",
    "print(f\"Number of classes: {len(np.unique(y_mnist))}\")\n",
    "\n",
    "# Visualize a few digits to verify the data\n",
    "plt.figure(figsize=(10, 2))\n",
    "for i in range(5):\n",
    "    plt.subplot(1, 5, i+1)\n",
    "    plt.imshow(X_mnist[i].reshape(28, 28), cmap='gray')\n",
    "    plt.title(f'Label: {y_mnist[i]}')\n",
    "    plt.axis('off')\n",
    "plt.tight_layout()\n",
    "plt.show()"
   ]
  },
  {
   "cell_type": "code",
   "execution_count": null,
   "metadata": {},
   "outputs": [],
   "source": [
    "tsne = TSNE(n_components=2,\n",
    "            perplexity=30,\n",
    "            random_state=42,\n",
    "            init='pca')\n",
    "X_tsne = tsne.fit_transform(X_mnist)"
   ]
  },
  {
   "cell_type": "code",
   "execution_count": null,
   "metadata": {},
   "outputs": [],
   "source": [
    "plt.figure(figsize=(10, 10))\n",
    "scatter = plt.scatter(X_tsne[:, 0], X_tsne[:, 1],\n",
    "                        c=y_mnist.astype(int),\n",
    "                        cmap='tab10',\n",
    "                        alpha=0.6)\n",
    "plt.colorbar(scatter)\n",
    "plt.title('t-SNE visualization of MNIST digits')\n",
    "plt.xlabel('t-SNE component 1')\n",
    "plt.ylabel('t-SNE component 2')\n",
    "plt.show()"
   ]
  },
  {
   "cell_type": "markdown",
   "metadata": {},
   "source": [
    "### Re-create CO-SNE visualization on synthetic point clusters"
   ]
  },
  {
   "cell_type": "code",
   "execution_count": null,
   "metadata": {},
   "outputs": [],
   "source": []
  },
  {
   "cell_type": "markdown",
   "metadata": {},
   "source": [
    "### Create hyperspherical data from wrapped normal distribution and generate visualization"
   ]
  },
  {
   "cell_type": "code",
   "execution_count": null,
   "metadata": {},
   "outputs": [],
   "source": []
  },
  {
   "cell_type": "markdown",
   "metadata": {},
   "source": [
    "### Create S^2 x E^2 x H^2 product space from wrapped normal distribution, and generate three separate 2D visualizations"
   ]
  },
  {
   "cell_type": "code",
   "execution_count": null,
   "metadata": {},
   "outputs": [],
   "source": []
  }
 ],
 "metadata": {
  "kernelspec": {
   "display_name": "ps-sne",
   "language": "python",
   "name": "python3"
  },
  "language_info": {
   "codemirror_mode": {
    "name": "ipython",
    "version": 3
   },
   "file_extension": ".py",
   "mimetype": "text/x-python",
   "name": "python",
   "nbconvert_exporter": "python",
   "pygments_lexer": "ipython3",
   "version": "3.12.2"
  }
 },
 "nbformat": 4,
 "nbformat_minor": 2
}
