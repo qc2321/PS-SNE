{
 "cells": [
  {
   "cell_type": "code",
   "execution_count": 1,
   "id": "dd645093",
   "metadata": {},
   "outputs": [
    {
     "ename": "ImportError",
     "evalue": "cannot import name 'scalar_search_wolfe2' from 'scipy.optimize.linesearch' (C:\\Users\\jiaze\\anaconda3\\envs\\uml_project\\lib\\site-packages\\scipy\\optimize\\linesearch.py)",
     "output_type": "error",
     "traceback": [
      "\u001b[1;31m---------------------------------------------------------------------------\u001b[0m",
      "\u001b[1;31mImportError\u001b[0m                               Traceback (most recent call last)",
      "Cell \u001b[1;32mIn[1], line 7\u001b[0m\n\u001b[0;32m      5\u001b[0m \u001b[38;5;28;01mfrom\u001b[39;00m \u001b[38;5;21;01mhtsne_impl\u001b[39;00m \u001b[38;5;28;01mimport\u001b[39;00m TSNE \u001b[38;5;28;01mas\u001b[39;00m hTSNE\n\u001b[0;32m      6\u001b[0m \u001b[38;5;28;01mfrom\u001b[39;00m \u001b[38;5;21;01mvmfsne_impl\u001b[39;00m \u001b[38;5;28;01mimport\u001b[39;00m TSNE \u001b[38;5;28;01mas\u001b[39;00m vmfSNE\n\u001b[1;32m----> 7\u001b[0m \u001b[38;5;28;01mfrom\u001b[39;00m \u001b[38;5;21;01mcosne\u001b[39;00m \u001b[38;5;28;01mimport\u001b[39;00m \u001b[38;5;241m*\u001b[39m\n\u001b[0;32m      8\u001b[0m \u001b[38;5;28;01mfrom\u001b[39;00m \u001b[38;5;21;01msklearn\u001b[39;00m\u001b[38;5;21;01m.\u001b[39;00m\u001b[38;5;21;01mdecomposition\u001b[39;00m \u001b[38;5;28;01mimport\u001b[39;00m PCA, KernelPCA\n\u001b[0;32m      9\u001b[0m \u001b[38;5;28;01mfrom\u001b[39;00m \u001b[38;5;21;01msklearn\u001b[39;00m\u001b[38;5;21;01m.\u001b[39;00m\u001b[38;5;21;01mdiscriminant_analysis\u001b[39;00m \u001b[38;5;28;01mimport\u001b[39;00m LinearDiscriminantAnalysis \u001b[38;5;28;01mas\u001b[39;00m LDA\n",
      "File \u001b[1;32mE:\\COMS4774\\repo\\PS-SNE\\cosne.py:12\u001b[0m\n\u001b[0;32m      9\u001b[0m \u001b[38;5;28;01mimport\u001b[39;00m \u001b[38;5;21;01mmatplotlib\u001b[39;00m\u001b[38;5;21;01m.\u001b[39;00m\u001b[38;5;21;01mpyplot\u001b[39;00m \u001b[38;5;28;01mas\u001b[39;00m \u001b[38;5;21;01mplt\u001b[39;00m\n\u001b[0;32m     10\u001b[0m \u001b[38;5;28;01mimport\u001b[39;00m \u001b[38;5;21;01msklearn\u001b[39;00m\n\u001b[1;32m---> 12\u001b[0m \u001b[38;5;28;01mfrom\u001b[39;00m \u001b[38;5;21;01mpvae\u001b[39;00m\u001b[38;5;21;01m.\u001b[39;00m\u001b[38;5;21;01mdistributions\u001b[39;00m\u001b[38;5;21;01m.\u001b[39;00m\u001b[38;5;21;01mriemannian_normal\u001b[39;00m \u001b[38;5;28;01mimport\u001b[39;00m RiemannianNormal\n\u001b[0;32m     13\u001b[0m \u001b[38;5;28;01mfrom\u001b[39;00m \u001b[38;5;21;01mpvae\u001b[39;00m\u001b[38;5;21;01m.\u001b[39;00m\u001b[38;5;21;01mmanifolds\u001b[39;00m\u001b[38;5;21;01m.\u001b[39;00m\u001b[38;5;21;01mpoincareball\u001b[39;00m \u001b[38;5;28;01mimport\u001b[39;00m PoincareBall\n\u001b[0;32m     15\u001b[0m \u001b[38;5;28;01mimport\u001b[39;00m \u001b[38;5;21;01mhyptorch\u001b[39;00m\u001b[38;5;21;01m.\u001b[39;00m\u001b[38;5;21;01mpmath\u001b[39;00m \u001b[38;5;28;01mas\u001b[39;00m \u001b[38;5;21;01mpmath\u001b[39;00m\n",
      "File \u001b[1;32mE:\\COMS4774\\repo\\PS-SNE\\pvae\\__init__.py:4\u001b[0m\n\u001b[0;32m      2\u001b[0m \u001b[38;5;28;01mimport\u001b[39;00m \u001b[38;5;21;01mpvae\u001b[39;00m\u001b[38;5;21;01m.\u001b[39;00m\u001b[38;5;21;01mobjectives\u001b[39;00m\n\u001b[0;32m      3\u001b[0m \u001b[38;5;28;01mimport\u001b[39;00m \u001b[38;5;21;01mpvae\u001b[39;00m\u001b[38;5;21;01m.\u001b[39;00m\u001b[38;5;21;01mutils\u001b[39;00m\n\u001b[1;32m----> 4\u001b[0m \u001b[38;5;28;01mimport\u001b[39;00m \u001b[38;5;21;01mpvae\u001b[39;00m\u001b[38;5;21;01m.\u001b[39;00m\u001b[38;5;21;01mmodels\u001b[39;00m\n\u001b[0;32m      5\u001b[0m \u001b[38;5;28;01mimport\u001b[39;00m \u001b[38;5;21;01mpvae\u001b[39;00m\u001b[38;5;21;01m.\u001b[39;00m\u001b[38;5;21;01mvis\u001b[39;00m\n\u001b[0;32m      6\u001b[0m \u001b[38;5;28;01mimport\u001b[39;00m \u001b[38;5;21;01mpvae\u001b[39;00m\u001b[38;5;21;01m.\u001b[39;00m\u001b[38;5;21;01mops\u001b[39;00m\n",
      "File \u001b[1;32mE:\\COMS4774\\repo\\PS-SNE\\pvae\\models\\__init__.py:1\u001b[0m\n\u001b[1;32m----> 1\u001b[0m \u001b[38;5;28;01mfrom\u001b[39;00m \u001b[38;5;21;01m.\u001b[39;00m\u001b[38;5;21;01mtabular\u001b[39;00m \u001b[38;5;28;01mimport\u001b[39;00m Tree \u001b[38;5;28;01mas\u001b[39;00m VAE_tree, CSV \u001b[38;5;28;01mas\u001b[39;00m VAE_csv\n\u001b[0;32m      2\u001b[0m \u001b[38;5;28;01mfrom\u001b[39;00m \u001b[38;5;21;01m.\u001b[39;00m\u001b[38;5;21;01mmnist\u001b[39;00m \u001b[38;5;28;01mimport\u001b[39;00m Mnist \u001b[38;5;28;01mas\u001b[39;00m VAE_mnist\n\u001b[0;32m      4\u001b[0m __all__ \u001b[38;5;241m=\u001b[39m [VAE_csv, VAE_tree, VAE_mnist]\n",
      "File \u001b[1;32mE:\\COMS4774\\repo\\PS-SNE\\pvae\\models\\tabular.py:14\u001b[0m\n\u001b[0;32m     12\u001b[0m \u001b[38;5;28;01mfrom\u001b[39;00m \u001b[38;5;21;01mpvae\u001b[39;00m\u001b[38;5;21;01m.\u001b[39;00m\u001b[38;5;21;01mdistributions\u001b[39;00m \u001b[38;5;28;01mimport\u001b[39;00m RiemannianNormal, WrappedNormal\n\u001b[0;32m     13\u001b[0m \u001b[38;5;28;01mfrom\u001b[39;00m \u001b[38;5;21;01mtorch\u001b[39;00m\u001b[38;5;21;01m.\u001b[39;00m\u001b[38;5;21;01mdistributions\u001b[39;00m \u001b[38;5;28;01mimport\u001b[39;00m Normal\n\u001b[1;32m---> 14\u001b[0m \u001b[38;5;28;01mfrom\u001b[39;00m \u001b[38;5;21;01mpvae\u001b[39;00m \u001b[38;5;28;01mimport\u001b[39;00m manifolds\n\u001b[0;32m     15\u001b[0m \u001b[38;5;28;01mfrom\u001b[39;00m \u001b[38;5;21;01m.\u001b[39;00m\u001b[38;5;21;01marchitectures\u001b[39;00m \u001b[38;5;28;01mimport\u001b[39;00m EncLinear, DecLinear, EncWrapped, DecWrapped, EncMob, DecMob, DecGeo\n\u001b[0;32m     16\u001b[0m \u001b[38;5;28;01mfrom\u001b[39;00m \u001b[38;5;21;01mpvae\u001b[39;00m\u001b[38;5;21;01m.\u001b[39;00m\u001b[38;5;21;01mdatasets\u001b[39;00m \u001b[38;5;28;01mimport\u001b[39;00m SyntheticDataset, CSVDataset\n",
      "File \u001b[1;32mE:\\COMS4774\\repo\\PS-SNE\\pvae\\manifolds\\__init__.py:1\u001b[0m\n\u001b[1;32m----> 1\u001b[0m \u001b[38;5;28;01mfrom\u001b[39;00m \u001b[38;5;21;01m.\u001b[39;00m\u001b[38;5;21;01meuclidean\u001b[39;00m \u001b[38;5;28;01mimport\u001b[39;00m Euclidean\n\u001b[0;32m      2\u001b[0m \u001b[38;5;28;01mfrom\u001b[39;00m \u001b[38;5;21;01mpvae\u001b[39;00m\u001b[38;5;21;01m.\u001b[39;00m\u001b[38;5;21;01mmanifolds\u001b[39;00m\u001b[38;5;21;01m.\u001b[39;00m\u001b[38;5;21;01mpoincareball\u001b[39;00m \u001b[38;5;28;01mimport\u001b[39;00m PoincareBall\n\u001b[0;32m      4\u001b[0m __all__ \u001b[38;5;241m=\u001b[39m [Euclidean, PoincareBall]\n",
      "File \u001b[1;32mE:\\COMS4774\\repo\\PS-SNE\\pvae\\manifolds\\euclidean.py:2\u001b[0m\n\u001b[0;32m      1\u001b[0m \u001b[38;5;28;01mimport\u001b[39;00m \u001b[38;5;21;01mtorch\u001b[39;00m\n\u001b[1;32m----> 2\u001b[0m \u001b[38;5;28;01mfrom\u001b[39;00m \u001b[38;5;21;01mgeoopt\u001b[39;00m\u001b[38;5;21;01m.\u001b[39;00m\u001b[38;5;21;01mmanifolds\u001b[39;00m \u001b[38;5;28;01mimport\u001b[39;00m Euclidean \u001b[38;5;28;01mas\u001b[39;00m EuclideanParent\n\u001b[0;32m      5\u001b[0m \u001b[38;5;28;01mclass\u001b[39;00m \u001b[38;5;21;01mEuclidean\u001b[39;00m(EuclideanParent):\n\u001b[0;32m      7\u001b[0m     \u001b[38;5;28;01mdef\u001b[39;00m \u001b[38;5;21m__init__\u001b[39m(\u001b[38;5;28mself\u001b[39m, dim, c\u001b[38;5;241m=\u001b[39m\u001b[38;5;241m0.\u001b[39m):\n",
      "File \u001b[1;32m~\\anaconda3\\envs\\uml_project\\lib\\site-packages\\geoopt\\__init__.py:2\u001b[0m\n\u001b[0;32m      1\u001b[0m \u001b[38;5;28;01mfrom\u001b[39;00m \u001b[38;5;21;01m.\u001b[39;00m \u001b[38;5;28;01mimport\u001b[39;00m manifolds\n\u001b[1;32m----> 2\u001b[0m \u001b[38;5;28;01mfrom\u001b[39;00m \u001b[38;5;21;01m.\u001b[39;00m \u001b[38;5;28;01mimport\u001b[39;00m optim\n\u001b[0;32m      3\u001b[0m \u001b[38;5;28;01mfrom\u001b[39;00m \u001b[38;5;21;01m.\u001b[39;00m \u001b[38;5;28;01mimport\u001b[39;00m tensor\n\u001b[0;32m      4\u001b[0m \u001b[38;5;28;01mfrom\u001b[39;00m \u001b[38;5;21;01m.\u001b[39;00m \u001b[38;5;28;01mimport\u001b[39;00m samplers\n",
      "File \u001b[1;32m~\\anaconda3\\envs\\uml_project\\lib\\site-packages\\geoopt\\optim\\__init__.py:5\u001b[0m\n\u001b[0;32m      3\u001b[0m \u001b[38;5;28;01mfrom\u001b[39;00m \u001b[38;5;21;01m.\u001b[39;00m\u001b[38;5;21;01msparse_radam\u001b[39;00m \u001b[38;5;28;01mimport\u001b[39;00m SparseRiemannianAdam\n\u001b[0;32m      4\u001b[0m \u001b[38;5;28;01mfrom\u001b[39;00m \u001b[38;5;21;01m.\u001b[39;00m\u001b[38;5;21;01msparse_rsgd\u001b[39;00m \u001b[38;5;28;01mimport\u001b[39;00m SparseRiemannianSGD\n\u001b[1;32m----> 5\u001b[0m \u001b[38;5;28;01mfrom\u001b[39;00m \u001b[38;5;21;01m.\u001b[39;00m\u001b[38;5;21;01mrlinesearch\u001b[39;00m \u001b[38;5;28;01mimport\u001b[39;00m RiemannianLineSearch\n",
      "File \u001b[1;32m~\\anaconda3\\envs\\uml_project\\lib\\site-packages\\geoopt\\optim\\rlinesearch.py:7\u001b[0m\n\u001b[0;32m      1\u001b[0m \u001b[38;5;124;03m\"\"\"Riemannian Line Search.\u001b[39;00m\n\u001b[0;32m      2\u001b[0m \n\u001b[0;32m      3\u001b[0m \u001b[38;5;124;03mThis module implements line search on Riemannian manifolds using geoopt.\u001b[39;00m\n\u001b[0;32m      4\u001b[0m \u001b[38;5;124;03mThis module uses the same syntax as a Torch optimizer\u001b[39;00m\n\u001b[0;32m      5\u001b[0m \u001b[38;5;124;03m\"\"\"\u001b[39;00m\n\u001b[1;32m----> 7\u001b[0m \u001b[38;5;28;01mfrom\u001b[39;00m \u001b[38;5;21;01mscipy\u001b[39;00m\u001b[38;5;21;01m.\u001b[39;00m\u001b[38;5;21;01moptimize\u001b[39;00m\u001b[38;5;21;01m.\u001b[39;00m\u001b[38;5;21;01mlinesearch\u001b[39;00m \u001b[38;5;28;01mimport\u001b[39;00m scalar_search_wolfe2, scalar_search_armijo\n\u001b[0;32m      8\u001b[0m \u001b[38;5;28;01mimport\u001b[39;00m \u001b[38;5;21;01mwarnings\u001b[39;00m\n\u001b[0;32m      9\u001b[0m \u001b[38;5;28;01mimport\u001b[39;00m \u001b[38;5;21;01mtorch\u001b[39;00m\n",
      "\u001b[1;31mImportError\u001b[0m: cannot import name 'scalar_search_wolfe2' from 'scipy.optimize.linesearch' (C:\\Users\\jiaze\\anaconda3\\envs\\uml_project\\lib\\site-packages\\scipy\\optimize\\linesearch.py)"
     ]
    }
   ],
   "source": [
    "import numpy as np\n",
    "import matplotlib.pyplot as plt\n",
    "\n",
    "from tsne import TSNE as TSNE\n",
    "from htsne_impl import TSNE as hTSNE\n",
    "from vmfsne_impl import TSNE as vmfSNE\n",
    "from cosne import *\n",
    "from sklearn.decomposition import PCA, KernelPCA\n",
    "from sklearn.discriminant_analysis import LinearDiscriminantAnalysis as LDA\n",
    "from sklearn.manifold import Isomap, LocallyLinearEmbedding, MDS\n",
    "\n",
    "from product_space_wrapped_normal import ProductSpace\n",
    "from sklearn.datasets import fetch_openml\n",
    "from sklearn.preprocessing import StandardScaler"
   ]
  },
  {
   "cell_type": "code",
   "execution_count": null,
   "id": "caf828b7",
   "metadata": {},
   "outputs": [],
   "source": [
    "ps = ProductSpace(signature=[(3, -1.), (7, 1.), (2, 0.)], seed=8)\n",
    "n_samples = 500\n",
    "n_classes = 5\n",
    "ps.sample_clusters(\n",
    "    num_points=n_samples,\n",
    "    num_classes=n_classes,\n",
    "    cov_scale=0.3,\n",
    "    sigma=1.0\n",
    ")\n",
    "\n"
   ]
  },
  {
   "cell_type": "code",
   "execution_count": null,
   "id": "536eca61",
   "metadata": {},
   "outputs": [],
   "source": [
    "tsne_model = TSNE(n_components=2,\n",
    "                    perplexity=30,\n",
    "                    random_state=0)\n",
    "ps_X_tsne = tsne_model.fit_transform(ps.X)"
   ]
  },
  {
   "cell_type": "code",
   "execution_count": null,
   "id": "f10762c9",
   "metadata": {},
   "outputs": [],
   "source": [
    "plt.figure(figsize=(10, 8))\n",
    "scatter = plt.scatter(ps_X_tsne[:, 0], ps_X_tsne[:, 1],\n",
    "                        c=ps.y.astype(int),\n",
    "                        cmap='Spectral',\n",
    "                        alpha=0.6)\n",
    "plt.colorbar(boundaries=np.arange(n_classes+1)-0.5).set_ticks(np.arange(n_classes))\n",
    "# plt.savefig(\"./saved_figures/\" + \"t-SNE_ps.png\", bbox_inches='tight', dpi=fig.dpi)\n",
    "plt.show()"
   ]
  },
  {
   "cell_type": "code",
   "execution_count": null,
   "id": "812b9553",
   "metadata": {},
   "outputs": [],
   "source": [
    "ps_tensor = torch.tensor(ps.X, dtype=torch.float32)\n",
    "dists_ps = pmath.dist_matrix(ps_tensor, ps_tensor, c=1).numpy()"
   ]
  },
  {
   "cell_type": "code",
   "execution_count": null,
   "id": "93ed2a1d",
   "metadata": {},
   "outputs": [],
   "source": [
    "cosne = hTSNE(\n",
    "    n_components=2,\n",
    "    verbose=0,\n",
    "    method='exact',\n",
    "    square_distances=True,\n",
    "    metric='precomputed',\n",
    "    learning_rate_for_h_loss=0.1,\n",
    "    student_t_gamma=0.1,\n",
    "    learning_rate=5.0,\n",
    "    n_iter=1000,\n",
    "    perplexity=20,\n",
    "    early_exaggeration=1.0,\n",
    ")\n",
    "ps_X_cosne = cosne.fit_transform(dists_ps, ps_tensor)"
   ]
  },
  {
   "cell_type": "code",
   "execution_count": null,
   "id": "80b0ec06",
   "metadata": {},
   "outputs": [],
   "source": [
    "fig = plt.figure(figsize=(8, 8))\n",
    "ax = fig.add_subplot(111)\n",
    "\n",
    "circle2 = plt.Circle((0, 0), 1, color='black', fill=False)\n",
    "plt.gca().add_patch(circle2)\n",
    "\n",
    "plt.scatter(ps_X_cosne[:,0], ps_X_cosne[:,1], c=ps.y, cmap='Spectral', s=30)\n",
    "ax.set_aspect('equal')\n",
    "plt.axis('off')\n",
    "\n",
    "# plt.savefig(\"./saved_figures/\" + \"CO-SNE_ps.png\", bbox_inches='tight', dpi=fig.dpi)\n",
    "plt.show()"
   ]
  },
  {
   "cell_type": "code",
   "execution_count": null,
   "id": "fb9bd073",
   "metadata": {},
   "outputs": [],
   "source": []
  }
 ],
 "metadata": {
  "kernelspec": {
   "display_name": "Python [conda env:uml_project]",
   "language": "python",
   "name": "conda-env-uml_project-py"
  },
  "language_info": {
   "codemirror_mode": {
    "name": "ipython",
    "version": 3
   },
   "file_extension": ".py",
   "mimetype": "text/x-python",
   "name": "python",
   "nbconvert_exporter": "python",
   "pygments_lexer": "ipython3",
   "version": "3.10.15"
  }
 },
 "nbformat": 4,
 "nbformat_minor": 5
}
