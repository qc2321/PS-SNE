{
 "cells": [
  {
   "cell_type": "markdown",
   "metadata": {},
   "source": [
    "## Wrapped normal mixture for all curvatures"
   ]
  },
  {
   "cell_type": "code",
   "execution_count": 1,
   "metadata": {},
   "outputs": [],
   "source": [
    "%load_ext autoreload\n",
    "%autoreload 2"
   ]
  },
  {
   "cell_type": "code",
   "execution_count": 2,
   "metadata": {},
   "outputs": [],
   "source": [
    "import numpy as np\n",
    "from product_space_wrapped_normal import ProductSpace, WrappedNormalMixture"
   ]
  },
  {
   "cell_type": "markdown",
   "metadata": {},
   "source": [
    "### Generate wrapped normal mixture for hyperbolic, hypersphere and Euclidean spaces"
   ]
  },
  {
   "cell_type": "code",
   "execution_count": 3,
   "metadata": {},
   "outputs": [],
   "source": [
    "K_hyp = -0.5\n",
    "hyp = WrappedNormalMixture(num_points=1000, num_classes=5, n_dim=2, curvature=K_hyp, seed=0, cov_scale=0.3)\n",
    "X_hyp, y_hyp, X_hyp_means = hyp.generate_data()\n",
    "assert np.allclose(hyp.manifold.metric.squared_norm(X_hyp), 1 / hyp.curvature)"
   ]
  },
  {
   "cell_type": "code",
   "execution_count": 4,
   "metadata": {},
   "outputs": [],
   "source": [
    "K_sph = 0.5\n",
    "sph = WrappedNormalMixture(num_points=1000, num_classes=5, n_dim=2, curvature=K_sph, seed=0, cov_scale=0.3)\n",
    "X_sph, y_sph, X_sph_means = sph.generate_data()\n",
    "assert np.allclose(sph.manifold.metric.squared_norm(X_sph), 1 / sph.curvature)"
   ]
  },
  {
   "cell_type": "code",
   "execution_count": 5,
   "metadata": {},
   "outputs": [],
   "source": [
    "K_euc = 0.0\n",
    "euc = WrappedNormalMixture(num_points=1000, num_classes=5, n_dim=2, curvature=K_euc, seed=0, cov_scale=0.3)\n",
    "X_euc, y_euc, X_euc_means = euc.generate_data()"
   ]
  },
  {
   "cell_type": "markdown",
   "metadata": {},
   "source": [
    "### Generate wrapped normal mixture for product space"
   ]
  },
  {
   "cell_type": "code",
   "execution_count": 6,
   "metadata": {},
   "outputs": [],
   "source": [
    "ps = ProductSpace(signature=[(3, -1.), (4, -.5), (3, .5), (4, 1.), (5, 0.)], seed=None)\n",
    "ps.sample_clusters(1000, 4, cov_scale=0.3)"
   ]
  },
  {
   "cell_type": "code",
   "execution_count": null,
   "metadata": {},
   "outputs": [],
   "source": []
  }
 ],
 "metadata": {
  "kernelspec": {
   "display_name": "ps-sne",
   "language": "python",
   "name": "python3"
  },
  "language_info": {
   "codemirror_mode": {
    "name": "ipython",
    "version": 3
   },
   "file_extension": ".py",
   "mimetype": "text/x-python",
   "name": "python",
   "nbconvert_exporter": "python",
   "pygments_lexer": "ipython3",
   "version": "3.12.2"
  }
 },
 "nbformat": 4,
 "nbformat_minor": 2
}
